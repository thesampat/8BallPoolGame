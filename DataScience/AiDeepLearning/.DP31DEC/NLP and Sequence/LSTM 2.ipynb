{
 "cells": [
  {
   "cell_type": "markdown",
   "id": "1934f8bc",
   "metadata": {},
   "source": [
    "# PREPROCESSING"
   ]
  },
  {
   "cell_type": "code",
   "execution_count": 78,
   "id": "355ed4a3",
   "metadata": {},
   "outputs": [],
   "source": [
    "# import all libraries\n",
    "import pandas as pd"
   ]
  },
  {
   "cell_type": "code",
   "execution_count": 79,
   "id": "0b058b17",
   "metadata": {},
   "outputs": [],
   "source": [
    "### import data\n",
    "df = pd.read_csv('/home/sam/Desktop/Codes/DataScience/datasets/fake-news/train.csv')"
   ]
  },
  {
   "cell_type": "code",
   "execution_count": 176,
   "id": "c5c98591",
   "metadata": {},
   "outputs": [],
   "source": [
    "### drop nan values\n",
    "df = df.dropna()"
   ]
  },
  {
   "cell_type": "code",
   "execution_count": 177,
   "id": "58a11434",
   "metadata": {},
   "outputs": [],
   "source": [
    "### split x and Y\n",
    "x = df.drop('label', axis=1)\n",
    "y = df['label']"
   ]
  },
  {
   "cell_type": "code",
   "execution_count": 178,
   "id": "29b1da7a",
   "metadata": {},
   "outputs": [],
   "source": [
    "import tensorflow as tf"
   ]
  },
  {
   "cell_type": "code",
   "execution_count": 179,
   "id": "18c98add",
   "metadata": {},
   "outputs": [],
   "source": [
    "from tensorflow.keras.layers import Embedding\n",
    "from tensorflow.keras.preprocessing.sequence import pad_sequences\n",
    "from tensorflow.keras.models import Sequential\n",
    "from tensorflow.keras.layers import Dense, Dropout\n",
    "from tensorflow.keras.preprocessing.text import one_hot\n",
    "from tensorflow.keras.layers import LSTM"
   ]
  },
  {
   "cell_type": "code",
   "execution_count": 180,
   "id": "6f9f1d1a",
   "metadata": {},
   "outputs": [],
   "source": [
    "### Vocabulary size\n",
    "voc_size = 5000"
   ]
  },
  {
   "cell_type": "code",
   "execution_count": 181,
   "id": "74a5f880",
   "metadata": {},
   "outputs": [],
   "source": [
    "# one_hot represention\n",
    "message = x.copy()\n",
    "message.reset_index(inplace = True)"
   ]
  },
  {
   "cell_type": "code",
   "execution_count": 182,
   "id": "b1084ad6",
   "metadata": {},
   "outputs": [],
   "source": [
    "import nltk\n",
    "import re\n",
    "from nltk.corpus import stopwords"
   ]
  },
  {
   "cell_type": "code",
   "execution_count": 183,
   "id": "0ec991d3",
   "metadata": {},
   "outputs": [],
   "source": [
    "# Dataset Preprocessing"
   ]
  },
  {
   "cell_type": "code",
   "execution_count": 184,
   "id": "c2e1ebd9",
   "metadata": {},
   "outputs": [],
   "source": [
    "from nltk.stem.porter import PorterStemmer\n",
    "ps = PorterStemmer()\n",
    "corpus = []\n",
    "for i in range(0, len(message)):\n",
    "    sample = re.sub('[^a-zA-Z]',' ', message['title'][i])\n",
    "    sample = sample.lower()\n",
    "    sample = sample.split()\n",
    "    \n",
    "    sample = [ps.stem(word) for word in sample if not word in stopwords.words('english')]\n",
    "    sample = ' '.join(sample)\n",
    "    corpus.append(sample)"
   ]
  },
  {
   "cell_type": "code",
   "execution_count": 136,
   "id": "fb5aa139",
   "metadata": {},
   "outputs": [],
   "source": [
    "onehot_repre = [one_hot(words, voc_size)for words in corpus]"
   ]
  },
  {
   "cell_type": "code",
   "execution_count": 137,
   "id": "85c71a43",
   "metadata": {},
   "outputs": [],
   "source": [
    "sent_length = 20\n",
    "embeded_docs = pad_sequences(onehot_repre, padding='pre', maxlen=sent_length)"
   ]
  },
  {
   "cell_type": "code",
   "execution_count": 196,
   "id": "9b93a2de",
   "metadata": {},
   "outputs": [],
   "source": [
    "# Creating model\n",
    "embedding_vector_feature = 40\n",
    "model = Sequential()\n",
    "model.add(Embedding(voc_size, embedding_vector_feature, input_length = sent_length))\n",
    "embedd_layer = Embedding(voc_size, embedding_vector_feature, input_length = sent_length)\n",
    "\n",
    "model.add(LSTM(100))\n",
    "model.add(Dropout(0.3))\n",
    "model.add(Dense(1, activation='sigmoid'))\n",
    "model.compile(loss='binary_crossentropy', optimizer= 'adam', metrics = ['accuracy'])"
   ]
  },
  {
   "cell_type": "code",
   "execution_count": 191,
   "id": "8bbc6074",
   "metadata": {},
   "outputs": [
    {
     "data": {
      "text/plain": [
       "((18285, 20), (18285,))"
      ]
     },
     "execution_count": 191,
     "metadata": {},
     "output_type": "execute_result"
    }
   ],
   "source": [
    "import numpy as np\n",
    "x_final = np.array(embeded_docs)\n",
    "y_final = np.array(y)\n",
    "x_final.shape, y_final.shape"
   ]
  },
  {
   "cell_type": "code",
   "execution_count": 140,
   "id": "65d7c15c",
   "metadata": {},
   "outputs": [],
   "source": [
    "from sklearn.model_selection import train_test_split\n",
    "x_train, x_test, y_train, y_test = train_test_split(x_final, y_final, test_size =0.3, random_state =42)"
   ]
  },
  {
   "cell_type": "code",
   "execution_count": 141,
   "id": "3bf46f82",
   "metadata": {},
   "outputs": [
    {
     "name": "stdout",
     "output_type": "stream",
     "text": [
      "Train on 12799 samples, validate on 5486 samples\n",
      "Epoch 1/10\n",
      "12799/12799 [==============================] - 8s 588us/sample - loss: 0.3266 - acc: 0.8562 - val_loss: 0.1911 - val_acc: 0.9178\n",
      "Epoch 2/10\n",
      "12799/12799 [==============================] - 6s 507us/sample - loss: 0.1362 - acc: 0.9465 - val_loss: 0.1970 - val_acc: 0.9218\n",
      "Epoch 3/10\n",
      "12799/12799 [==============================] - 6s 505us/sample - loss: 0.0983 - acc: 0.9638 - val_loss: 0.2174 - val_acc: 0.9182\n",
      "Epoch 4/10\n",
      "12799/12799 [==============================] - 7s 508us/sample - loss: 0.0763 - acc: 0.9734 - val_loss: 0.2639 - val_acc: 0.9172\n",
      "Epoch 5/10\n",
      "12799/12799 [==============================] - 6s 505us/sample - loss: 0.0537 - acc: 0.9825 - val_loss: 0.2798 - val_acc: 0.9098\n",
      "Epoch 6/10\n",
      "12799/12799 [==============================] - 7s 513us/sample - loss: 0.0345 - acc: 0.9895 - val_loss: 0.3315 - val_acc: 0.9120\n",
      "Epoch 7/10\n",
      "12799/12799 [==============================] - 7s 514us/sample - loss: 0.0250 - acc: 0.9918 - val_loss: 0.4542 - val_acc: 0.9156\n",
      "Epoch 8/10\n",
      "12799/12799 [==============================] - 7s 514us/sample - loss: 0.0157 - acc: 0.9950 - val_loss: 0.4799 - val_acc: 0.9054\n",
      "Epoch 9/10\n",
      "12799/12799 [==============================] - 7s 540us/sample - loss: 0.0109 - acc: 0.9969 - val_loss: 0.4479 - val_acc: 0.9123\n",
      "Epoch 10/10\n",
      "12799/12799 [==============================] - 7s 509us/sample - loss: 0.0081 - acc: 0.9977 - val_loss: 0.4696 - val_acc: 0.9123\n"
     ]
    },
    {
     "data": {
      "text/plain": [
       "<tensorflow.python.keras.callbacks.History at 0x7f89e526cd30>"
      ]
     },
     "execution_count": 141,
     "metadata": {},
     "output_type": "execute_result"
    }
   ],
   "source": [
    "#finally Training\n",
    "model.fit(x_train, y_train, validation_data=(x_test,y_test), epochs = 10, batch_size=64)"
   ]
  },
  {
   "cell_type": "code",
   "execution_count": 142,
   "id": "6e4d93fc",
   "metadata": {},
   "outputs": [],
   "source": [
    "y_pred =model.predict_classes(x_test)"
   ]
  },
  {
   "cell_type": "code",
   "execution_count": 143,
   "id": "1fafa42f",
   "metadata": {},
   "outputs": [
    {
     "data": {
      "text/plain": [
       "array([[2809,  298],\n",
       "       [ 183, 2196]])"
      ]
     },
     "execution_count": 143,
     "metadata": {},
     "output_type": "execute_result"
    }
   ],
   "source": [
    "from sklearn.metrics import confusion_matrix\n",
    "confusion_matrix(y_test, y_pred)"
   ]
  },
  {
   "cell_type": "code",
   "execution_count": 166,
   "id": "ef711795",
   "metadata": {},
   "outputs": [
    {
     "data": {
      "text/plain": [
       "0.9123222748815166"
      ]
     },
     "execution_count": 166,
     "metadata": {},
     "output_type": "execute_result"
    }
   ],
   "source": [
    "from sklearn.metrics import accuracy_score\n",
    "accuracy_score(y_test, y_pred)"
   ]
  },
  {
   "cell_type": "code",
   "execution_count": 174,
   "id": "ed342ac0",
   "metadata": {},
   "outputs": [],
   "source": [
    "v = x_test[20:30,:]"
   ]
  },
  {
   "cell_type": "code",
   "execution_count": 175,
   "id": "da801150",
   "metadata": {},
   "outputs": [
    {
     "data": {
      "text/plain": [
       "array([[0],\n",
       "       [0],\n",
       "       [0],\n",
       "       [1],\n",
       "       [1],\n",
       "       [0],\n",
       "       [0],\n",
       "       [1],\n",
       "       [0],\n",
       "       [1]], dtype=int32)"
      ]
     },
     "execution_count": 175,
     "metadata": {},
     "output_type": "execute_result"
    }
   ],
   "source": [
    "model.predict_classes(v)"
   ]
  },
  {
   "cell_type": "code",
   "execution_count": null,
   "id": "6133d63d",
   "metadata": {},
   "outputs": [],
   "source": []
  },
  {
   "cell_type": "code",
   "execution_count": null,
   "id": "62efce03",
   "metadata": {},
   "outputs": [],
   "source": []
  }
 ],
 "metadata": {
  "kernelspec": {
   "display_name": "Python 3",
   "language": "python",
   "name": "python3"
  },
  "language_info": {
   "codemirror_mode": {
    "name": "ipython",
    "version": 3
   },
   "file_extension": ".py",
   "mimetype": "text/x-python",
   "name": "python",
   "nbconvert_exporter": "python",
   "pygments_lexer": "ipython3",
   "version": "3.6.9"
  }
 },
 "nbformat": 4,
 "nbformat_minor": 5
}
