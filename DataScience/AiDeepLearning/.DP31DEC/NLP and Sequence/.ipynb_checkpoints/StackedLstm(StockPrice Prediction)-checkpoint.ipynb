{
 "cells": [
  {
   "cell_type": "code",
   "execution_count": 4,
   "id": "6eb5521d",
   "metadata": {},
   "outputs": [],
   "source": [
    "import pandas_datareader as pdr\n",
    "key = "
   ]
  },
  {
   "cell_type": "code",
   "execution_count": 37,
   "id": "4ad27b7a",
   "metadata": {},
   "outputs": [],
   "source": [
    "df = pdr.get_data_tiingo('AAPL', api_key = '9db752908a017c7f15a19ae508da6f7bcf8373df')"
   ]
  },
  {
   "cell_type": "code",
   "execution_count": 38,
   "id": "f74672e3",
   "metadata": {},
   "outputs": [],
   "source": [
    "df.to_csv('AAPL.csv')"
   ]
  },
  {
   "cell_type": "code",
   "execution_count": 42,
   "id": "e6192db3",
   "metadata": {},
   "outputs": [],
   "source": [
    "import pandas as pd"
   ]
  },
  {
   "cell_type": "code",
   "execution_count": 43,
   "id": "4571020b",
   "metadata": {},
   "outputs": [],
   "source": [
    "df2 = pd.read_csv('AAPL.csv')"
   ]
  },
  {
   "cell_type": "code",
   "execution_count": 50,
   "id": "bfc806fe",
   "metadata": {},
   "outputs": [],
   "source": [
    "df1 = df2.reset_index()['close']"
   ]
  },
  {
   "cell_type": "code",
   "execution_count": 53,
   "id": "8a822c6a",
   "metadata": {},
   "outputs": [],
   "source": [
    "import matplotlib.pyplot as plt"
   ]
  },
  {
   "cell_type": "code",
   "execution_count": 105,
   "id": "0be64171",
   "metadata": {},
   "outputs": [
    {
     "data": {
      "text/plain": [
       "[<matplotlib.lines.Line2D at 0x7fd4ab4fbbe0>]"
      ]
     },
     "execution_count": 105,
     "metadata": {},
     "output_type": "execute_result"
    },
    {
     "data": {
      "image/png": "[encoded data removed]",
      "text/plain": [
       "<Figure size 432x288 with 1 Axes>"
      ]
     },
     "metadata": {
      "needs_background": "light"
     },
     "output_type": "display_data"
    }
   ],
   "source": [
    "plt.plot(df1)"
   ]
  },
  {
   "cell_type": "code",
   "execution_count": 106,
   "id": "fe74be92",
   "metadata": {},
   "outputs": [],
   "source": [
    "# scale the data\n",
    "from sklearn.preprocessing import MinMaxScaler\n",
    "import numpy as np\n",
    "scaler = MinMaxScaler()\n",
    "df1 = scaler.fit_transform(np.array(df1))"
   ]
  },
  {
   "cell_type": "code",
   "execution_count": 107,
   "id": "88f65131",
   "metadata": {},
   "outputs": [],
   "source": [
    "## splitting the data into train and test split\n",
    "training_size = int((len(df1)) * 0.65)\n",
    "test_size = int((len(df1)) - training_size)\n",
    "train, test = df1[0:training_size, :], df1[training_size:len(df1), :]"
   ]
  },
  {
   "cell_type": "code",
   "execution_count": 90,
   "id": "85ddd9a4",
   "metadata": {},
   "outputs": [],
   "source": [
    "## create timestep data\n",
    "def create_dataset(dataset, timestep=1):\n",
    "    dataX, dataY = [], []\n",
    "    for i in range(len(dataset)-time_step-1):\n",
    "        a = dataset[i:(i+time_step), 0]\n",
    "        dataX.append(a)\n",
    "        dataY.append(dataset[i+time_step, 0])\n",
    "    return np.array(dataX), np.array(dataY)"
   ]
  },
  {
   "cell_type": "code",
   "execution_count": 123,
   "id": "d703d184",
   "metadata": {},
   "outputs": [],
   "source": [
    "time_step = 100\n",
    "X_train, Y_train = create_dataset(train, time_step)\n",
    "X_test, Y_test = create_dataset(test, time_step)"
   ]
  },
  {
   "cell_type": "code",
   "execution_count": 124,
   "id": "713004fe",
   "metadata": {},
   "outputs": [],
   "source": [
    "# reshape input to be [samples, time_step, features] which is required for LSTM"
   ]
  },
  {
   "cell_type": "code",
   "execution_count": null,
   "id": "ce30627b",
   "metadata": {},
   "outputs": [],
   "source": []
  }
 ],
 "metadata": {
  "kernelspec": {
   "display_name": "Python 3",
   "language": "python",
   "name": "python3"
  },
  "language_info": {
   "codemirror_mode": {
    "name": "ipython",
    "version": 3
   },
   "file_extension": ".py",
   "mimetype": "text/x-python",
   "name": "python",
   "nbconvert_exporter": "python",
   "pygments_lexer": "ipython3",
   "version": "3.6.9"
  }
 },
 "nbformat": 4,
 "nbformat_minor": 5
}
