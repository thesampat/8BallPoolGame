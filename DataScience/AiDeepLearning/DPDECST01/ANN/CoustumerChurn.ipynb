{
 "cells": [
  {
   "cell_type": "code",
   "execution_count": 11,
   "id": "59b271c4",
   "metadata": {},
   "outputs": [],
   "source": [
    "import pandas as pd\n",
    "import numpy as np\n",
    "import seaborn as sns\n",
    "import matplotlib.pyplot as plt\n",
    "from sklearn.model_selection import train_test_split"
   ]
  },
  {
   "cell_type": "code",
   "execution_count": 12,
   "id": "9277c6e8",
   "metadata": {},
   "outputs": [],
   "source": [
    "# import dataset\n",
    "df = pd.read_csv('/home/sam/Desktop/samlab/codes/DataScience/datasets/Churn_Modelling.csv')"
   ]
  },
  {
   "cell_type": "code",
   "execution_count": 13,
   "id": "2e3caca6",
   "metadata": {},
   "outputs": [],
   "source": [
    "# data cleaning\n",
    "# drop columns\n",
    "drop_col = ['RowNumber', 'Surname', 'CustomerId']\n",
    "df.drop(drop_col, axis=1, inplace =True)"
   ]
  },
  {
   "cell_type": "code",
   "execution_count": 14,
   "id": "7df1e448",
   "metadata": {},
   "outputs": [],
   "source": [
    "# get unique values of each columns \n",
    "def unique(df):\n",
    "    for col in df.columns:\n",
    "        if df[col].dtype == object:\n",
    "            print(f'{col} : {df[col].unique()}')"
   ]
  },
  {
   "cell_type": "code",
   "execution_count": 15,
   "id": "2867a37e",
   "metadata": {},
   "outputs": [],
   "source": [
    "# convert string to onehot\n",
    "df1 = pd.get_dummies(df, drop_first= True)\n",
    "Y = df['Exited']\n",
    "df1.drop('Exited', axis=1, inplace =True)"
   ]
  },
  {
   "cell_type": "code",
   "execution_count": 16,
   "id": "756b2a41",
   "metadata": {},
   "outputs": [],
   "source": [
    "dataS = ['CreditScore', 'Age', 'Balance', 'EstimatedSalary']\n",
    "# Scaling data\n",
    "from sklearn.preprocessing import MinMaxScaler\n",
    "Scale = MinMaxScaler()\n",
    "df1[dataS] = Scale.fit_transform(df1[dataS])"
   ]
  },
  {
   "cell_type": "code",
   "execution_count": 17,
   "id": "b82978dc",
   "metadata": {},
   "outputs": [],
   "source": [
    "from tensorflow.keras.models import Sequential\n",
    "from tensorflow.keras.layers import Dense, Dropout\n",
    "from tensorflow.keras.activations import *"
   ]
  },
  {
   "cell_type": "code",
   "execution_count": 18,
   "id": "2cc5e33e",
   "metadata": {},
   "outputs": [],
   "source": [
    "def network(train_x, test_x, train_y, test_y, weights):      \n",
    "    Model = Sequential()\n",
    "    Model.add(Dense(units=100, input_shape = (df1.shape[1], ), activation='relu'))\n",
    "    Model.add(Dense(units=50, activation='relu'))\n",
    "    Model.add(Dense(1, activation='sigmoid'))\n",
    "    Model.compile (loss ='binary_crossentropy',\n",
    "                     optimizer = 'adam',\n",
    "                     metrics = ['accuracy']\n",
    "    )\n",
    "    if weights == -1:\n",
    "        Model.fit(train_x, train_y, epochs =10, batch_size = 10)\n",
    "    else:\n",
    "        Model.fit(train_x, train_y, epochs =10, batch_size = 10, class_weights = weights)\n",
    "    pred = Model.predict(test_x)\n",
    "    \n",
    "    from sklearn.metrics import classification_report\n",
    "    report = classification_report(np.round(pred), test_y)\n",
    "    return report"
   ]
  },
  {
   "cell_type": "code",
   "execution_count": null,
   "id": "654884ff",
   "metadata": {},
   "outputs": [],
   "source": []
  },
  {
   "cell_type": "code",
   "execution_count": 19,
   "id": "8a76f94a",
   "metadata": {},
   "outputs": [],
   "source": [
    "def count(df1):\n",
    "    count_0 = df[df.Exited == 0].Exited\n",
    "    count_1 = df[df.Exited == 1].Exited\n",
    "    count_0df = df[df.Exited == 0]\n",
    "    count_1df = df[df.Exited == 1]\n",
    "    return len(count_0), len(count_1), count_0df, count_1df\n",
    "\n",
    "def Prepare_data(df_mod):\n",
    "    df1 = pd.get_dummies(df_mod, drop_first= True)\n",
    "    Y = df_mod['Exited']\n",
    "    df1.drop('Exited', axis=1, inplace =True)\n",
    "    dataS = ['CreditScore', 'Age', 'Balance', 'EstimatedSalary']\n",
    "    \n",
    "    # Scaling data\n",
    "    from sklearn.preprocessing import MinMaxScaler\n",
    "    Scale = MinMaxScaler()\n",
    "    df1[dataS] = Scale.fit_transform(df1[dataS])\n",
    "    return Y, df1"
   ]
  },
  {
   "cell_type": "code",
   "execution_count": 20,
   "id": "77e2c54b",
   "metadata": {},
   "outputs": [],
   "source": [
    "c0, c1, df0 ,df1= count(df)"
   ]
  },
  {
   "cell_type": "markdown",
   "id": "3ee059a6",
   "metadata": {},
   "source": [
    "#    Undersampling Majority Class"
   ]
  },
  {
   "cell_type": "code",
   "execution_count": 21,
   "id": "71b6cb37",
   "metadata": {},
   "outputs": [],
   "source": [
    "under_df_0 = df0.sample(c1)\n",
    "df_on = pd.concat([under_df_0, df1], axis=0)"
   ]
  },
  {
   "cell_type": "code",
   "execution_count": 22,
   "id": "ca0590dc",
   "metadata": {},
   "outputs": [
    {
     "name": "stdout",
     "output_type": "stream",
     "text": [
      "WARNING:tensorflow:From /home/sam/.local/lib/python3.6/site-packages/tensorflow/python/ops/init_ops.py:1251: calling VarianceScaling.__init__ (from tensorflow.python.ops.init_ops) with dtype is deprecated and will be removed in a future version.\n",
      "Instructions for updating:\n",
      "Call initializer instance with the dtype argument instead of passing it to the constructor\n",
      "WARNING:tensorflow:From /home/sam/.local/lib/python3.6/site-packages/tensorflow/python/ops/nn_impl.py:180: add_dispatch_support.<locals>.wrapper (from tensorflow.python.ops.array_ops) is deprecated and will be removed in a future version.\n",
      "Instructions for updating:\n",
      "Use tf.where in 2.0, which has the same broadcast rule as np.where\n",
      "Epoch 1/10\n",
      "3259/3259 [==============================] - 3s 823us/sample - loss: 0.6470 - acc: 0.6207\n",
      "Epoch 2/10\n",
      "3259/3259 [==============================] - 0s 133us/sample - loss: 0.5940 - acc: 0.6766\n",
      "Epoch 3/10\n",
      "3259/3259 [==============================] - 0s 132us/sample - loss: 0.5680 - acc: 0.6975\n",
      "Epoch 4/10\n",
      "3259/3259 [==============================] - 0s 133us/sample - loss: 0.5490 - acc: 0.7153\n",
      "Epoch 5/10\n",
      "3259/3259 [==============================] - 0s 133us/sample - loss: 0.5361 - acc: 0.7343\n",
      "Epoch 6/10\n",
      "3259/3259 [==============================] - 0s 136us/sample - loss: 0.5198 - acc: 0.7432\n",
      "Epoch 7/10\n",
      "3259/3259 [==============================] - 0s 137us/sample - loss: 0.5151 - acc: 0.7441\n",
      "Epoch 8/10\n",
      "3259/3259 [==============================] - 0s 132us/sample - loss: 0.5066 - acc: 0.7478\n",
      "Epoch 9/10\n",
      "3259/3259 [==============================] - 1s 167us/sample - loss: 0.4978 - acc: 0.7533\n",
      "Epoch 10/10\n",
      "3259/3259 [==============================] - 0s 140us/sample - loss: 0.4943 - acc: 0.7515\n",
      "              precision    recall  f1-score   support\n",
      "\n",
      "         0.0       0.79      0.78      0.79       409\n",
      "         1.0       0.78      0.79      0.78       406\n",
      "\n",
      "    accuracy                           0.79       815\n",
      "   macro avg       0.79      0.79      0.79       815\n",
      "weighted avg       0.79      0.79      0.79       815\n",
      "\n"
     ]
    }
   ],
   "source": [
    "y, x = Prepare_data(df_on)\n",
    "train_x, test_x, train_y, test_y = train_test_split(x, y, test_size =0.2, random_state =42, stratify = y)\n",
    "report = network(train_x, test_x, train_y, test_y, -1)\n",
    "print(report)"
   ]
  },
  {
   "cell_type": "code",
   "execution_count": null,
   "id": "990363a6",
   "metadata": {},
   "outputs": [],
   "source": []
  },
  {
   "cell_type": "markdown",
   "id": "c83a2942",
   "metadata": {},
   "source": [
    "# Oversampling Minority Class"
   ]
  },
  {
   "cell_type": "code",
   "execution_count": 29,
   "id": "a7cedea5",
   "metadata": {},
   "outputs": [
    {
     "data": {
      "text/plain": [
       "(7963, 2037)"
      ]
     },
     "execution_count": 29,
     "metadata": {},
     "output_type": "execute_result"
    }
   ],
   "source": [
    "c0, c1"
   ]
  },
  {
   "cell_type": "code",
   "execution_count": 30,
   "id": "475ddf87",
   "metadata": {},
   "outputs": [],
   "source": [
    "over_df_1 = df1.sample(c0, replace =True)\n",
    "df_on = pd.concat([over_df_1, df0], axis=0)"
   ]
  },
  {
   "cell_type": "code",
   "execution_count": 32,
   "id": "6254cdeb",
   "metadata": {},
   "outputs": [
    {
     "name": "stdout",
     "output_type": "stream",
     "text": [
      "Epoch 1/10\n",
      "12740/12740 [==============================] - 2s 146us/sample - loss: 0.6002 - acc: 0.6733\n",
      "Epoch 2/10\n",
      "12740/12740 [==============================] - 2s 129us/sample - loss: 0.5271 - acc: 0.7367\n",
      "Epoch 3/10\n",
      "12740/12740 [==============================] - 2s 129us/sample - loss: 0.4954 - acc: 0.7553\n",
      "Epoch 4/10\n",
      "12740/12740 [==============================] - 2s 131us/sample - loss: 0.4811 - acc: 0.7635\n",
      "Epoch 5/10\n",
      "12740/12740 [==============================] - 2s 131us/sample - loss: 0.4707 - acc: 0.7702\n",
      "Epoch 6/10\n",
      "12740/12740 [==============================] - 2s 130us/sample - loss: 0.4628 - acc: 0.7745\n",
      "Epoch 7/10\n",
      "12740/12740 [==============================] - 2s 132us/sample - loss: 0.4547 - acc: 0.7797\n",
      "Epoch 8/10\n",
      "12740/12740 [==============================] - 2s 133us/sample - loss: 0.4477 - acc: 0.7848\n",
      "Epoch 9/10\n",
      "12740/12740 [==============================] - 2s 132us/sample - loss: 0.4435 - acc: 0.7867\n",
      "Epoch 10/10\n",
      "12740/12740 [==============================] - 2s 132us/sample - loss: 0.4385 - acc: 0.7907\n",
      "              precision    recall  f1-score   support\n",
      "\n",
      "         0.0       0.73      0.81      0.77      1447\n",
      "         1.0       0.82      0.75      0.79      1739\n",
      "\n",
      "    accuracy                           0.78      3186\n",
      "   macro avg       0.78      0.78      0.78      3186\n",
      "weighted avg       0.78      0.78      0.78      3186\n",
      "\n"
     ]
    }
   ],
   "source": [
    "y, x = Prepare_data(df_on)\n",
    "train_x, test_x, train_y, test_y = train_test_split(x, y, test_size =0.2, random_state =42, stratify = y)\n",
    "report = network(train_x, test_x, train_y, test_y, -1)\n",
    "print(report)"
   ]
  },
  {
   "cell_type": "code",
   "execution_count": null,
   "id": "98016b76",
   "metadata": {},
   "outputs": [],
   "source": []
  },
  {
   "cell_type": "code",
   "execution_count": null,
   "id": "2afb36a3",
   "metadata": {},
   "outputs": [],
   "source": []
  },
  {
   "cell_type": "code",
   "execution_count": null,
   "id": "b4c2d950",
   "metadata": {},
   "outputs": [],
   "source": []
  }
 ],
 "metadata": {
  "kernelspec": {
   "display_name": "Python 3",
   "language": "python",
   "name": "python3"
  },
  "language_info": {
   "codemirror_mode": {
    "name": "ipython",
    "version": 3
   },
   "file_extension": ".py",
   "mimetype": "text/x-python",
   "name": "python",
   "nbconvert_exporter": "python",
   "pygments_lexer": "ipython3",
   "version": "3.6.9"
  }
 },
 "nbformat": 4,
 "nbformat_minor": 5
}
