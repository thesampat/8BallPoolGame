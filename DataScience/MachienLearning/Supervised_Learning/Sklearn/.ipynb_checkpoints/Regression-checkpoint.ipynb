{
 "cells": [
  {
   "cell_type": "code",
   "execution_count": 1,
   "id": "77b99373",
   "metadata": {},
   "outputs": [],
   "source": [
    "from sklearn import datasets\n",
    "import pandas as pd\n",
    "import matplotlib.pyplot as plt\n",
    "from sklearn import preprocessing\n",
    "from sklearn import metrics\n",
    "import numpy as np\n",
    "import seaborn as sns"
   ]
  },
  {
   "cell_type": "code",
   "execution_count": 2,
   "id": "64805023",
   "metadata": {},
   "outputs": [],
   "source": [
    "data = pd.read_csv('/home/sam/Desktop/Codes/DataScience/datasets/advertising.csv')\n",
    "x = data.iloc[:,:-1]\n",
    "y = data.iloc[:,-1]"
   ]
  },
  {
   "cell_type": "markdown",
   "id": "826df1d4",
   "metadata": {},
   "source": [
    "# real dataset\n",
    "df_train  = pd.read_csv('/home/sam/Desktop/Codes/DataScience/datasets/archive/train.csv') \n",
    "df_train.drop('ADDRESS', axis = 1, inplace=True)\n",
    "x = df_train.iloc[:,:-1]\n",
    "y = df_train.iloc[:,-1]    "
   ]
  },
  {
   "cell_type": "code",
   "execution_count": 26,
   "id": "748d199a",
   "metadata": {},
   "outputs": [],
   "source": [
    "from sklearn.model_selection import train_test_split\n",
    "x_train, x_test, y_train, y_test = train_test_split(x, y, random_state = 0)"
   ]
  },
  {
   "cell_type": "code",
   "execution_count": 27,
   "id": "37ca8dca",
   "metadata": {},
   "outputs": [],
   "source": [
    "# Build MOdel\n",
    "from sklearn import linear_model\n",
    "RegModel = linear_model.LinearRegression()\n",
    "RegModel.fit(x_train, y_train)\n",
    "prediction = RegModel.predict(x_test)"
   ]
  },
  {
   "cell_type": "code",
   "execution_count": 28,
   "id": "0728c034",
   "metadata": {},
   "outputs": [
    {
     "data": {
      "text/plain": [
       "0.8396599706485148"
      ]
     },
     "execution_count": 28,
     "metadata": {},
     "output_type": "execute_result"
    }
   ],
   "source": [
    "#check score\n",
    "from sklearn import metrics\n",
    "score = metrics.r2_score(prediction, y_test)\n",
    "score"
   ]
  },
  {
   "cell_type": "markdown",
   "id": "42aa4cbd",
   "metadata": {},
   "source": [
    "# LASSO REGRESSION"
   ]
  },
  {
   "cell_type": "code",
   "execution_count": 29,
   "id": "e691bfb8",
   "metadata": {},
   "outputs": [
    {
     "data": {
      "text/plain": [
       "0.8396599706250889"
      ]
     },
     "execution_count": 29,
     "metadata": {},
     "output_type": "execute_result"
    }
   ],
   "source": [
    "from sklearn.linear_model import Lasso\n",
    "lreg = Lasso(alpha = 0.00000001)\n",
    "lreg.fit(x_train, y_train)\n",
    "prediction = lreg.predict(x_test)\n",
    "\n",
    "from sklearn import metrics\n",
    "metrics.r2_score(prediction, y_test)\n",
    "\n",
    "# plt.scatter(prediction, y_test)"
   ]
  },
  {
   "cell_type": "markdown",
   "id": "288c7f4d",
   "metadata": {},
   "source": [
    "# RIDGE REGRESSION "
   ]
  },
  {
   "cell_type": "code",
   "execution_count": 30,
   "id": "87e16566",
   "metadata": {},
   "outputs": [
    {
     "data": {
      "text/plain": [
       "0.8396599706250889"
      ]
     },
     "execution_count": 30,
     "metadata": {},
     "output_type": "execute_result"
    }
   ],
   "source": [
    "from sklearn.linear_model import Ridge\n",
    "Rreg = Ridge(alpha = 1)\n",
    "Rreg.fit(x_train, y_train)\n",
    "prediction = lreg.predict(x_test)\n",
    "\n",
    "from sklearn import metrics\n",
    "metrics.r2_score(prediction, y_test)"
   ]
  },
  {
   "cell_type": "markdown",
   "id": "98ac358c",
   "metadata": {},
   "source": [
    "# DICISION TREE"
   ]
  },
  {
   "cell_type": "code",
   "execution_count": 31,
   "id": "dff05133",
   "metadata": {},
   "outputs": [
    {
     "data": {
      "text/plain": [
       "-0.7543701989108011"
      ]
     },
     "execution_count": 31,
     "metadata": {},
     "output_type": "execute_result"
    }
   ],
   "source": [
    "from sklearn.tree import DecisionTreeRegressor\n",
    "dt = DecisionTreeRegressor(random_state = 0)\n",
    "\n",
    "from sklearn import preprocessing\n",
    "lbe = preprocessing.LabelEncoder()\n",
    "y_train_encoded = lbe.fit_transform(y_train)\n",
    "\n",
    "dt.fit(x_train, y_train_encoded)\n",
    "\n",
    "prediction = dt.predict(x_test)\n",
    "\n",
    "from sklearn import metrics\n",
    "metrics.r2_score(prediction, y_test)"
   ]
  },
  {
   "cell_type": "markdown",
   "id": "61512cfb",
   "metadata": {},
   "source": [
    "# RANDOM FOREST REGRESSION"
   ]
  },
  {
   "cell_type": "code",
   "execution_count": 361,
   "id": "53633a69",
   "metadata": {},
   "outputs": [
    {
     "data": {
      "text/plain": [
       "<matplotlib.collections.PathCollection at 0x7f55d2ba9c50>"
      ]
     },
     "execution_count": 361,
     "metadata": {},
     "output_type": "execute_result"
    },
    {
     "data": {
      "image/png": "[encoded data removed]",
      "text/plain": [
       "<Figure size 432x288 with 1 Axes>"
      ]
     },
     "metadata": {
      "needs_background": "light"
     },
     "output_type": "display_data"
    }
   ],
   "source": [
    "from sklearn.ensemble import RandomForestRegressor\n",
    "Rf = RandomForestRegressor(n_estimators = 200, random_state = 0)\n",
    "Rf.fit(x_train, y_train)\n",
    "prediction = Rf.predict(x_test)\n",
    "\n",
    "from sklearn import metrics\n",
    "metrics.r2_score(prediction, y_test)\n",
    "\n",
    "plt.scatter(prediction, y_test)"
   ]
  },
  {
   "cell_type": "markdown",
   "id": "46617f32",
   "metadata": {},
   "source": [
    "# SGD REGRESSOR"
   ]
  },
  {
   "cell_type": "code",
   "execution_count": 340,
   "id": "df08ccc8",
   "metadata": {},
   "outputs": [
    {
     "data": {
      "text/plain": [
       "0.9427606862485337"
      ]
     },
     "execution_count": 340,
     "metadata": {},
     "output_type": "execute_result"
    }
   ],
   "source": [
    "from sklearn.linear_model import SGDRegressor\n",
    "sgdr = SGDRegressor(n_iter_no_change = 250, eta0 = 0.001, max_iter=100000)\n",
    "sgdr.fit(x_train, y_train)\n",
    "predcition = sgdr.predict(x_test)\n",
    "\n",
    "from sklearn import metrics\n",
    "metrics.r2_score(prediction, y_test)"
   ]
  },
  {
   "cell_type": "markdown",
   "id": "d83b4058",
   "metadata": {},
   "source": [
    "# NEAREST REGRESSOR"
   ]
  },
  {
   "cell_type": "code",
   "execution_count": 341,
   "id": "dfc19f02",
   "metadata": {},
   "outputs": [
    {
     "data": {
      "text/plain": [
       "0.9427606862485337"
      ]
     },
     "execution_count": 341,
     "metadata": {},
     "output_type": "execute_result"
    }
   ],
   "source": [
    "from sklearn.neighbors import KNeighborsRegressor\n",
    "knr = KNeighborsRegressor(n_neighbors = 2)\n",
    "knr.fit(x_train, y_train)\n",
    "predcition = knr.predict(x_test)\n",
    "\n",
    "from sklearn import metrics\n",
    "metrics.r2_score(prediction, y_test)"
   ]
  },
  {
   "cell_type": "markdown",
   "id": "96b16d37",
   "metadata": {},
   "source": [
    "# svm"
   ]
  },
  {
   "cell_type": "code",
   "execution_count": 360,
   "id": "3633336a",
   "metadata": {},
   "outputs": [
    {
     "data": {
      "text/plain": [
       "0.9427606862485337"
      ]
     },
     "execution_count": 360,
     "metadata": {},
     "output_type": "execute_result"
    }
   ],
   "source": [
    "from sklearn import svm\n",
    "svmr = svm.SVR(kernel = 'rbf')\n",
    "svmr.fit(x_train, y_train)\n",
    "\n",
    "predcition = svmr.predict(x_test)\n",
    "\n",
    "from sklearn import metrics\n",
    "metrics.r2_score(prediction, y_test)\n"
   ]
  },
  {
   "cell_type": "code",
   "execution_count": null,
   "id": "c9d973ce",
   "metadata": {},
   "outputs": [],
   "source": []
  },
  {
   "cell_type": "code",
   "execution_count": null,
   "id": "4e78b883",
   "metadata": {},
   "outputs": [],
   "source": []
  },
  {
   "cell_type": "code",
   "execution_count": null,
   "id": "7ab3699f",
   "metadata": {},
   "outputs": [],
   "source": []
  }
 ],
 "metadata": {
  "kernelspec": {
   "display_name": "Python 3",
   "language": "python",
   "name": "python3"
  },
  "language_info": {
   "codemirror_mode": {
    "name": "ipython",
    "version": 3
   },
   "file_extension": ".py",
   "mimetype": "text/x-python",
   "name": "python",
   "nbconvert_exporter": "python",
   "pygments_lexer": "ipython3",
   "version": "3.6.9"
  }
 },
 "nbformat": 4,
 "nbformat_minor": 5
}
