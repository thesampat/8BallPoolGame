{
 "cells": [
  {
   "cell_type": "code",
   "execution_count": 227,
   "id": "faac2d0d",
   "metadata": {},
   "outputs": [],
   "source": [
    "import pandas as pd\n",
    "import seaborn as sns\n",
    "import matplotlib.pyplot as mpl\n",
    "import numpy as np\n",
    "\n",
    "df = pd.read_csv('~/Desktop/Codes/DataScience/datasets/Latest Covid-19 India Status.csv')\n",
    "del df['State/UTs']\n",
    "x = df.iloc[:,:-1]\n",
    "y = df.iloc[:,-1]\n",
    "\n",
    "from sklearn.model_selection import train_test_split\n",
    "x_train, x_test, y_train, y_test = train_test_split(x, y, random_state = 42)"
   ]
  },
  {
   "cell_type": "code",
   "execution_count": 228,
   "id": "aca56996",
   "metadata": {},
   "outputs": [],
   "source": [
    "from sklearn.linear_model import LinearRegression\n"
   ]
  },
  {
   "cell_type": "code",
   "execution_count": 229,
   "id": "c360af83",
   "metadata": {},
   "outputs": [],
   "source": [
    "Reg = LinearRegression()\n",
    "Reg.fit(x_train, y_train)\n",
    "prediction = Reg.predict(x_test)"
   ]
  },
  {
   "cell_type": "code",
   "execution_count": 230,
   "id": "400d6d94",
   "metadata": {},
   "outputs": [
    {
     "data": {
      "text/plain": [
       "0.9998120999381712"
      ]
     },
     "execution_count": 230,
     "metadata": {},
     "output_type": "execute_result"
    }
   ],
   "source": [
    "from sklearn.metrics import mean_squared_error, r2_score\n",
    "mean_squared_error(y_test, prediction)\n",
    "r2_score(y_test, prediction)"
   ]
  },
  {
   "cell_type": "code",
   "execution_count": null,
   "id": "77916f4d",
   "metadata": {},
   "outputs": [],
   "source": []
  },
  {
   "cell_type": "code",
   "execution_count": null,
   "id": "01d8fb2a",
   "metadata": {},
   "outputs": [],
   "source": []
  }
 ],
 "metadata": {
  "kernelspec": {
   "display_name": "Python 3",
   "language": "python",
   "name": "python3"
  },
  "language_info": {
   "codemirror_mode": {
    "name": "ipython",
    "version": 3
   },
   "file_extension": ".py",
   "mimetype": "text/x-python",
   "name": "python",
   "nbconvert_exporter": "python",
   "pygments_lexer": "ipython3",
   "version": "3.6.9"
  }
 },
 "nbformat": 4,
 "nbformat_minor": 5
}
