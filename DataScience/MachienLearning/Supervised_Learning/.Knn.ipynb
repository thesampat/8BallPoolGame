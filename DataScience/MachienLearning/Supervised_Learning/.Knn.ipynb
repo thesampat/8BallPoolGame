{
 "cells": [
  {
   "cell_type": "code",
   "execution_count": 12,
   "id": "28fb2a27",
   "metadata": {},
   "outputs": [],
   "source": [
    "import sklearn\n",
    "import pandas as pd\n",
    "import numpy as np\n",
    "import math"
   ]
  },
  {
   "cell_type": "code",
   "execution_count": null,
   "id": "af5ab1fe",
   "metadata": {},
   "outputs": [],
   "source": []
  },
  {
   "cell_type": "code",
   "execution_count": 17,
   "id": "8d8fa530",
   "metadata": {},
   "outputs": [],
   "source": [
    "from sklearn.model_selection import train_test_split"
   ]
  },
  {
   "cell_type": "code",
   "execution_count": null,
   "id": "98ea757f",
   "metadata": {},
   "outputs": [],
   "source": []
  },
  {
   "cell_type": "code",
   "execution_count": 18,
   "id": "d845a2a8",
   "metadata": {},
   "outputs": [],
   "source": [
    "def e_distance(row1, row):\n",
    "    distance = 0.0\n",
    "    for i in range(len(row) -1):\n",
    "        distance += (row1[i] - row[i])**2\n",
    "        return math.sqrt(distance)"
   ]
  },
  {
   "cell_type": "code",
   "execution_count": 19,
   "id": "d9232144",
   "metadata": {},
   "outputs": [],
   "source": [
    "def get_response(neighbours):\n",
    "    votes = {}\n",
    "    for i in range(len(neighbours)):\n",
    "        x = neighbours[i][-1]\n",
    "        if x not in votes:\n",
    "            votes[x] = 0\n",
    "        votes[x] += 1\n",
    "    votes = sorted(votes.items(), reverse=True)\n",
    "    return votes[0][0]"
   ]
  },
  {
   "cell_type": "code",
   "execution_count": 20,
   "id": "4d6be266",
   "metadata": {},
   "outputs": [],
   "source": [
    "def get_neg(train, test, k):\n",
    "    nearest = []\n",
    "    for i in (test):\n",
    "        distance = list()\n",
    "        k_neghbours = list()\n",
    "        for j in (train):\n",
    "            dist = e_distance(i, j)\n",
    "            distance.append((j ,dist))\n",
    "            distance.sort(key =lambda tup:tup[1])\n",
    "        for neghbours in range(k):\n",
    "            k_neghbours.append(distance[neghbours][0])\n",
    "            mem = get_response(k_neghbours)\n",
    "        nearest.append(mem)\n",
    "    return nearest"
   ]
  },
  {
   "cell_type": "code",
   "execution_count": 21,
   "id": "315bb461",
   "metadata": {},
   "outputs": [
    {
     "data": {
      "text/plain": [
       "['d', 'c', 'c', 'd', 'c']"
      ]
     },
     "execution_count": 21,
     "metadata": {},
     "output_type": "execute_result"
    }
   ],
   "source": [
    "a = list([[2 ,2, 2, 'a']\n",
    "          ,[1, 1, 1, 'a']\n",
    "          ,[4, 4, 4, 'c']\n",
    "          ,[7, 7, 7, 'd']\n",
    "          ,[1, 1, 1, 'e']])\n",
    "c = list([[9, 9, 9], [4, 4, 4], [2.5, 2.5, 2.5], [6, 6, 6], [4, 4, 4]])\n",
    "get_neg(a, c, 3)"
   ]
  },
  {
   "cell_type": "code",
   "execution_count": null,
   "id": "f75e3a25",
   "metadata": {},
   "outputs": [],
   "source": []
  },
  {
   "cell_type": "code",
   "execution_count": null,
   "id": "e85fb65b",
   "metadata": {},
   "outputs": [],
   "source": []
  },
  {
   "cell_type": "code",
   "execution_count": null,
   "id": "434336fb",
   "metadata": {},
   "outputs": [],
   "source": []
  },
  {
   "cell_type": "code",
   "execution_count": null,
   "id": "01cca0b4",
   "metadata": {},
   "outputs": [],
   "source": []
  },
  {
   "cell_type": "code",
   "execution_count": null,
   "id": "153c1154",
   "metadata": {},
   "outputs": [],
   "source": []
  }
 ],
 "metadata": {
  "kernelspec": {
   "display_name": "Python 3",
   "language": "python",
   "name": "python3"
  },
  "language_info": {
   "codemirror_mode": {
    "name": "ipython",
    "version": 3
   },
   "file_extension": ".py",
   "mimetype": "text/x-python",
   "name": "python",
   "nbconvert_exporter": "python",
   "pygments_lexer": "ipython3",
   "version": "3.6.9"
  }
 },
 "nbformat": 4,
 "nbformat_minor": 5
}
