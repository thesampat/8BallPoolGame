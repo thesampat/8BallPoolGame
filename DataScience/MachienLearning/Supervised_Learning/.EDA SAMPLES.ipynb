{
 "cells": [
  {
   "cell_type": "code",
   "execution_count": 1,
   "id": "7d1a4477",
   "metadata": {},
   "outputs": [],
   "source": [
    "import sklearn\n",
    "from sklearn import datasets\n",
    "import numpy as np\n",
    "import pandas as pd\n",
    "import seaborn as sns\n",
    "import matplotlib.pyplot as plt"
   ]
  },
  {
   "cell_type": "code",
   "execution_count": 2,
   "id": "10cd666c",
   "metadata": {},
   "outputs": [],
   "source": [
    "np.random.seed(0)\n",
    "df = pd.read_csv('~/Desktop/Codes/DataScience/datasets/Churn_Modelling.csv')"
   ]
  },
  {
   "cell_type": "code",
   "execution_count": 3,
   "id": "fa672f60",
   "metadata": {},
   "outputs": [],
   "source": [
    "drop_columns = ['RowNumber', 'CustomerId', 'Surname', 'Geography']\n",
    "df.drop(drop_columns, axis = 1, inplace = True)"
   ]
  },
  {
   "cell_type": "code",
   "execution_count": 4,
   "id": "f761739f",
   "metadata": {},
   "outputs": [],
   "source": [
    "df = pd.get_dummies(df, drop_first = True)"
   ]
  },
  {
   "cell_type": "code",
   "execution_count": 5,
   "id": "51da23a5",
   "metadata": {},
   "outputs": [],
   "source": [
    "x = df.iloc[:,:].drop(['Exited'],axis = 1)\n",
    "y = df['Exited']"
   ]
  },
  {
   "cell_type": "code",
   "execution_count": 6,
   "id": "9df7ca94",
   "metadata": {},
   "outputs": [],
   "source": [
    "from sklearn.model_selection import train_test_split\n",
    "x_train, x_test, y_train, y_test = train_test_split(x, y, test_size = 0.2)"
   ]
  },
  {
   "cell_type": "code",
   "execution_count": 7,
   "id": "8f8b8708",
   "metadata": {},
   "outputs": [],
   "source": [
    "from sklearn.linear_model import LogisticRegression\n",
    "Reg = LogisticRegression(penalty = 'none')\n",
    "Reg.fit(x_train, y_train)\n",
    "prediction = Reg.predict(x_test)"
   ]
  },
  {
   "cell_type": "code",
   "execution_count": 8,
   "id": "03d0cc33",
   "metadata": {},
   "outputs": [
    {
     "data": {
      "text/plain": [
       "0.789"
      ]
     },
     "execution_count": 8,
     "metadata": {},
     "output_type": "execute_result"
    }
   ],
   "source": [
    "from sklearn.metrics import accuracy_score\n",
    "accuracy_score(prediction, y_test)"
   ]
  },
  {
   "cell_type": "markdown",
   "id": "7534d23b",
   "metadata": {},
   "source": [
    "accuracy of noraml distrubuation = 0.789"
   ]
  },
  {
   "cell_type": "code",
   "execution_count": 9,
   "id": "ea278b36",
   "metadata": {},
   "outputs": [
    {
     "ename": "TypeError",
     "evalue": "__init__() got an unexpected keyword argument 'n_estimators'",
     "output_type": "error",
     "traceback": [
      "\u001b[0;31m---------------------------------------------------------------------------\u001b[0m",
      "\u001b[0;31mTypeError\u001b[0m                                 Traceback (most recent call last)",
      "\u001b[0;32m<ipython-input-9-2a96cfa631a8>\u001b[0m in \u001b[0;36m<module>\u001b[0;34m\u001b[0m\n\u001b[1;32m      1\u001b[0m \u001b[0;32mfrom\u001b[0m \u001b[0msklearn\u001b[0m\u001b[0;34m.\u001b[0m\u001b[0mlinear_model\u001b[0m \u001b[0;32mimport\u001b[0m \u001b[0mRidge\u001b[0m\u001b[0;34m\u001b[0m\u001b[0;34m\u001b[0m\u001b[0m\n\u001b[0;32m----> 2\u001b[0;31m \u001b[0mReg\u001b[0m \u001b[0;34m=\u001b[0m \u001b[0mRidge\u001b[0m\u001b[0;34m(\u001b[0m\u001b[0malpha\u001b[0m \u001b[0;34m=\u001b[0m\u001b[0;36m1\u001b[0m\u001b[0;34m,\u001b[0m \u001b[0mn_estimators\u001b[0m \u001b[0;34m=\u001b[0m \u001b[0;36m100\u001b[0m\u001b[0;34m)\u001b[0m\u001b[0;34m\u001b[0m\u001b[0;34m\u001b[0m\u001b[0m\n\u001b[0m\u001b[1;32m      3\u001b[0m \u001b[0mReg\u001b[0m\u001b[0;34m.\u001b[0m\u001b[0mfit\u001b[0m\u001b[0;34m(\u001b[0m\u001b[0mx_train\u001b[0m\u001b[0;34m,\u001b[0m \u001b[0my_train\u001b[0m\u001b[0;34m)\u001b[0m\u001b[0;34m\u001b[0m\u001b[0;34m\u001b[0m\u001b[0m\n\u001b[1;32m      4\u001b[0m \u001b[0mprediction\u001b[0m \u001b[0;34m=\u001b[0m \u001b[0mReg\u001b[0m\u001b[0;34m.\u001b[0m\u001b[0mpredict\u001b[0m\u001b[0;34m(\u001b[0m\u001b[0mx_test\u001b[0m\u001b[0;34m)\u001b[0m\u001b[0;34m\u001b[0m\u001b[0;34m\u001b[0m\u001b[0m\n",
      "\u001b[0;32m~/.local/lib/python3.6/site-packages/sklearn/utils/validation.py\u001b[0m in \u001b[0;36minner_f\u001b[0;34m(*args, **kwargs)\u001b[0m\n\u001b[1;32m     61\u001b[0m             \u001b[0mextra_args\u001b[0m \u001b[0;34m=\u001b[0m \u001b[0mlen\u001b[0m\u001b[0;34m(\u001b[0m\u001b[0margs\u001b[0m\u001b[0;34m)\u001b[0m \u001b[0;34m-\u001b[0m \u001b[0mlen\u001b[0m\u001b[0;34m(\u001b[0m\u001b[0mall_args\u001b[0m\u001b[0;34m)\u001b[0m\u001b[0;34m\u001b[0m\u001b[0;34m\u001b[0m\u001b[0m\n\u001b[1;32m     62\u001b[0m             \u001b[0;32mif\u001b[0m \u001b[0mextra_args\u001b[0m \u001b[0;34m<=\u001b[0m \u001b[0;36m0\u001b[0m\u001b[0;34m:\u001b[0m\u001b[0;34m\u001b[0m\u001b[0;34m\u001b[0m\u001b[0m\n\u001b[0;32m---> 63\u001b[0;31m                 \u001b[0;32mreturn\u001b[0m \u001b[0mf\u001b[0m\u001b[0;34m(\u001b[0m\u001b[0;34m*\u001b[0m\u001b[0margs\u001b[0m\u001b[0;34m,\u001b[0m \u001b[0;34m**\u001b[0m\u001b[0mkwargs\u001b[0m\u001b[0;34m)\u001b[0m\u001b[0;34m\u001b[0m\u001b[0;34m\u001b[0m\u001b[0m\n\u001b[0m\u001b[1;32m     64\u001b[0m \u001b[0;34m\u001b[0m\u001b[0m\n\u001b[1;32m     65\u001b[0m             \u001b[0;31m# extra_args > 0\u001b[0m\u001b[0;34m\u001b[0m\u001b[0;34m\u001b[0m\u001b[0;34m\u001b[0m\u001b[0m\n",
      "\u001b[0;31mTypeError\u001b[0m: __init__() got an unexpected keyword argument 'n_estimators'"
     ]
    }
   ],
   "source": [
    "from sklearn.linear_model import Ridge\n",
    "Reg = Ridge(alpha =1, n_estimators = 100)\n",
    "Reg.fit(x_train, y_train)\n",
    "prediction = Reg.predict(x_test)"
   ]
  },
  {
   "cell_type": "code",
   "execution_count": null,
   "id": "34eabb52",
   "metadata": {},
   "outputs": [],
   "source": [
    "from sklearn.ensemble import RandomForestClassifier\n",
    "cl = RandomForestClassifier(100)\n",
    "cl.fit(x_train, y_train)\n",
    "prediction = cl.predict(x_test)\n",
    "\n",
    "from sklearn.metrics import accuracy_score\n",
    "accuracy_score(prediction, y_test)"
   ]
  },
  {
   "cell_type": "markdown",
   "id": "7a97ea3f",
   "metadata": {},
   "source": [
    "# with keras neural netowrk"
   ]
  },
  {
   "cell_type": "code",
   "execution_count": 35,
   "id": "2393951b",
   "metadata": {},
   "outputs": [
    {
     "name": "stdout",
     "output_type": "stream",
     "text": [
      "Epoch 1/100\n",
      "8000/8000 [==============================] - 1s 71us/sample - loss: 432.0335 - acc: 0.6700\n",
      "Epoch 2/100\n",
      "8000/8000 [==============================] - 1s 64us/sample - loss: 52.1854 - acc: 0.6787\n",
      "Epoch 3/100\n",
      "8000/8000 [==============================] - 0s 61us/sample - loss: 33.0634 - acc: 0.7103\n",
      "Epoch 4/100\n",
      "8000/8000 [==============================] - 0s 60us/sample - loss: 13.4068 - acc: 0.7186\n",
      "Epoch 5/100\n",
      "8000/8000 [==============================] - 0s 59us/sample - loss: 7.0989 - acc: 0.7412\n",
      "Epoch 6/100\n",
      "8000/8000 [==============================] - 0s 59us/sample - loss: 6.8120 - acc: 0.7430\n",
      "Epoch 7/100\n",
      "8000/8000 [==============================] - 0s 58us/sample - loss: 4.6639 - acc: 0.7498\n",
      "Epoch 8/100\n",
      "8000/8000 [==============================] - 0s 59us/sample - loss: 3.8416 - acc: 0.7576\n",
      "Epoch 9/100\n",
      "8000/8000 [==============================] - 0s 60us/sample - loss: 3.3365 - acc: 0.7619\n",
      "Epoch 10/100\n",
      "8000/8000 [==============================] - 0s 60us/sample - loss: 3.5126 - acc: 0.7563\n",
      "Epoch 11/100\n",
      "8000/8000 [==============================] - 0s 59us/sample - loss: 3.1404 - acc: 0.7610\n",
      "Epoch 12/100\n",
      "8000/8000 [==============================] - 0s 59us/sample - loss: 3.8039 - acc: 0.7640\n",
      "Epoch 13/100\n",
      "8000/8000 [==============================] - 0s 59us/sample - loss: 2.8242 - acc: 0.7602\n",
      "Epoch 14/100\n",
      "8000/8000 [==============================] - 0s 60us/sample - loss: 3.9532 - acc: 0.7624\n",
      "Epoch 15/100\n",
      "8000/8000 [==============================] - 0s 59us/sample - loss: 4.3661 - acc: 0.7606\n",
      "Epoch 16/100\n",
      "8000/8000 [==============================] - 0s 61us/sample - loss: 2.7592 - acc: 0.7638\n",
      "Epoch 17/100\n",
      "8000/8000 [==============================] - 1s 70us/sample - loss: 2.6848 - acc: 0.7594\n",
      "Epoch 18/100\n",
      "8000/8000 [==============================] - 0s 61us/sample - loss: 2.6164 - acc: 0.7629\n",
      "Epoch 19/100\n",
      "8000/8000 [==============================] - 0s 62us/sample - loss: 3.1603 - acc: 0.7644\n",
      "Epoch 20/100\n",
      "8000/8000 [==============================] - 1s 65us/sample - loss: 3.2913 - acc: 0.7579\n",
      "Epoch 21/100\n",
      "8000/8000 [==============================] - 1s 65us/sample - loss: 3.3943 - acc: 0.7599\n",
      "Epoch 22/100\n",
      "8000/8000 [==============================] - 0s 57us/sample - loss: 2.8954 - acc: 0.7605\n",
      "Epoch 23/100\n",
      "8000/8000 [==============================] - 0s 59us/sample - loss: 3.3722 - acc: 0.7645\n",
      "Epoch 24/100\n",
      "8000/8000 [==============================] - 1s 65us/sample - loss: 2.5229 - acc: 0.7659\n",
      "Epoch 25/100\n",
      "8000/8000 [==============================] - 0s 62us/sample - loss: 3.6154 - acc: 0.7604\n",
      "Epoch 26/100\n",
      "8000/8000 [==============================] - 0s 61us/sample - loss: 3.6853 - acc: 0.7620\n",
      "Epoch 27/100\n",
      "8000/8000 [==============================] - 0s 59us/sample - loss: 2.1104 - acc: 0.7666\n",
      "Epoch 28/100\n",
      "8000/8000 [==============================] - 0s 59us/sample - loss: 2.2169 - acc: 0.7731\n",
      "Epoch 29/100\n",
      "8000/8000 [==============================] - 0s 60us/sample - loss: 0.5098 - acc: 0.7960\n",
      "Epoch 30/100\n",
      "8000/8000 [==============================] - 0s 60us/sample - loss: 0.5079 - acc: 0.7959\n",
      "Epoch 31/100\n",
      "8000/8000 [==============================] - 0s 59us/sample - loss: 0.5070 - acc: 0.7960\n",
      "Epoch 32/100\n",
      "8000/8000 [==============================] - 1s 70us/sample - loss: 0.5069 - acc: 0.7959\n",
      "Epoch 33/100\n",
      "8000/8000 [==============================] - 1s 69us/sample - loss: 0.5074 - acc: 0.7960\n",
      "Epoch 34/100\n",
      "8000/8000 [==============================] - 0s 60us/sample - loss: 0.5066 - acc: 0.7959\n",
      "Epoch 35/100\n",
      "8000/8000 [==============================] - 0s 58us/sample - loss: 0.5064 - acc: 0.7959\n",
      "Epoch 36/100\n",
      "8000/8000 [==============================] - 1s 73us/sample - loss: 0.5063 - acc: 0.7960\n",
      "Epoch 37/100\n",
      "8000/8000 [==============================] - 0s 60us/sample - loss: 0.5064 - acc: 0.7959\n",
      "Epoch 38/100\n",
      "8000/8000 [==============================] - 0s 59us/sample - loss: 0.5066 - acc: 0.7959\n",
      "Epoch 39/100\n",
      "8000/8000 [==============================] - 0s 60us/sample - loss: 0.5175 - acc: 0.7959\n",
      "Epoch 40/100\n",
      "8000/8000 [==============================] - 0s 60us/sample - loss: 0.5068 - acc: 0.7960\n",
      "Epoch 41/100\n",
      "8000/8000 [==============================] - 1s 79us/sample - loss: 0.5057 - acc: 0.7960\n",
      "Epoch 42/100\n",
      "8000/8000 [==============================] - 0s 62us/sample - loss: 0.5057 - acc: 0.7960\n",
      "Epoch 43/100\n",
      "8000/8000 [==============================] - 0s 60us/sample - loss: 0.5057 - acc: 0.7960\n",
      "Epoch 44/100\n",
      "8000/8000 [==============================] - 0s 61us/sample - loss: 0.5057 - acc: 0.7960\n",
      "Epoch 45/100\n",
      "8000/8000 [==============================] - 0s 60us/sample - loss: 0.5057 - acc: 0.7960\n",
      "Epoch 46/100\n",
      "8000/8000 [==============================] - 0s 60us/sample - loss: 0.5057 - acc: 0.7960\n",
      "Epoch 47/100\n",
      "8000/8000 [==============================] - 1s 75us/sample - loss: 0.5057 - acc: 0.7960\n",
      "Epoch 48/100\n",
      "8000/8000 [==============================] - 1s 63us/sample - loss: 0.5056 - acc: 0.7960\n",
      "Epoch 49/100\n",
      "8000/8000 [==============================] - 0s 60us/sample - loss: 0.5065 - acc: 0.7960\n",
      "Epoch 50/100\n",
      "8000/8000 [==============================] - 0s 60us/sample - loss: 0.5057 - acc: 0.7960\n",
      "Epoch 51/100\n",
      "8000/8000 [==============================] - 0s 61us/sample - loss: 0.5057 - acc: 0.7960\n",
      "Epoch 52/100\n",
      "8000/8000 [==============================] - 0s 59us/sample - loss: 0.5057 - acc: 0.7960\n",
      "Epoch 53/100\n",
      "8000/8000 [==============================] - 0s 60us/sample - loss: 0.5057 - acc: 0.7960\n",
      "Epoch 54/100\n",
      "8000/8000 [==============================] - 0s 60us/sample - loss: 0.5057 - acc: 0.7960\n",
      "Epoch 55/100\n",
      "8000/8000 [==============================] - 0s 61us/sample - loss: 0.5057 - acc: 0.7960\n",
      "Epoch 56/100\n",
      "8000/8000 [==============================] - 0s 60us/sample - loss: 0.5057 - acc: 0.7960\n",
      "Epoch 57/100\n",
      "8000/8000 [==============================] - 0s 58us/sample - loss: 0.5057 - acc: 0.7960\n",
      "Epoch 58/100\n",
      "8000/8000 [==============================] - 0s 60us/sample - loss: 0.5057 - acc: 0.7960\n",
      "Epoch 59/100\n",
      "8000/8000 [==============================] - 0s 60us/sample - loss: 0.5065 - acc: 0.7960\n",
      "Epoch 60/100\n",
      "8000/8000 [==============================] - 0s 59us/sample - loss: 0.5077 - acc: 0.7956\n",
      "Epoch 61/100\n",
      "8000/8000 [==============================] - 0s 58us/sample - loss: 0.5058 - acc: 0.7960\n",
      "Epoch 62/100\n",
      "8000/8000 [==============================] - 0s 61us/sample - loss: 0.5057 - acc: 0.7960\n",
      "Epoch 63/100\n",
      "8000/8000 [==============================] - 0s 62us/sample - loss: 0.5057 - acc: 0.7960\n",
      "Epoch 64/100\n",
      "8000/8000 [==============================] - 0s 61us/sample - loss: 0.5058 - acc: 0.7960\n",
      "Epoch 65/100\n",
      "8000/8000 [==============================] - 1s 63us/sample - loss: 0.5057 - acc: 0.7960\n",
      "Epoch 66/100\n",
      "8000/8000 [==============================] - 0s 62us/sample - loss: 0.5058 - acc: 0.7960\n",
      "Epoch 67/100\n",
      "8000/8000 [==============================] - 0s 62us/sample - loss: 0.5057 - acc: 0.7960\n",
      "Epoch 68/100\n",
      "8000/8000 [==============================] - 0s 62us/sample - loss: 0.5058 - acc: 0.7960\n",
      "Epoch 69/100\n",
      "8000/8000 [==============================] - 0s 62us/sample - loss: 0.5057 - acc: 0.7960\n",
      "Epoch 70/100\n",
      "8000/8000 [==============================] - 1s 64us/sample - loss: 0.5057 - acc: 0.7960\n",
      "Epoch 71/100\n",
      "8000/8000 [==============================] - 0s 61us/sample - loss: 0.5057 - acc: 0.7960\n",
      "Epoch 72/100\n",
      "8000/8000 [==============================] - 0s 62us/sample - loss: 0.5057 - acc: 0.7960\n",
      "Epoch 73/100\n",
      "8000/8000 [==============================] - 0s 61us/sample - loss: 0.5057 - acc: 0.7960\n",
      "Epoch 74/100\n",
      "8000/8000 [==============================] - 0s 61us/sample - loss: 0.5057 - acc: 0.7960\n",
      "Epoch 75/100\n",
      "8000/8000 [==============================] - 0s 61us/sample - loss: 0.5057 - acc: 0.7960\n",
      "Epoch 76/100\n",
      "8000/8000 [==============================] - 0s 61us/sample - loss: 0.5057 - acc: 0.7960\n",
      "Epoch 77/100\n",
      "8000/8000 [==============================] - 0s 62us/sample - loss: 0.5057 - acc: 0.7960\n",
      "Epoch 78/100\n",
      "8000/8000 [==============================] - 0s 62us/sample - loss: 0.5057 - acc: 0.7960\n",
      "Epoch 79/100\n",
      "8000/8000 [==============================] - 0s 61us/sample - loss: 0.5057 - acc: 0.7960\n",
      "Epoch 80/100\n",
      "8000/8000 [==============================] - 1s 71us/sample - loss: 0.5057 - acc: 0.7960\n",
      "Epoch 81/100\n"
     ]
    },
    {
     "name": "stdout",
     "output_type": "stream",
     "text": [
      "8000/8000 [==============================] - 1s 66us/sample - loss: 0.5057 - acc: 0.7960\n",
      "Epoch 82/100\n",
      "8000/8000 [==============================] - 1s 66us/sample - loss: 0.5075 - acc: 0.7960\n",
      "Epoch 83/100\n",
      "8000/8000 [==============================] - 1s 66us/sample - loss: 0.5057 - acc: 0.7960\n",
      "Epoch 84/100\n",
      "8000/8000 [==============================] - 1s 67us/sample - loss: 0.5057 - acc: 0.7960\n",
      "Epoch 85/100\n",
      "8000/8000 [==============================] - 1s 65us/sample - loss: 0.5058 - acc: 0.7960\n",
      "Epoch 86/100\n",
      "8000/8000 [==============================] - 1s 64us/sample - loss: 0.5057 - acc: 0.7960\n",
      "Epoch 87/100\n",
      "8000/8000 [==============================] - 1s 68us/sample - loss: 0.5057 - acc: 0.7960\n",
      "Epoch 88/100\n",
      "8000/8000 [==============================] - 1s 66us/sample - loss: 0.5057 - acc: 0.7960\n",
      "Epoch 89/100\n",
      "8000/8000 [==============================] - 1s 64us/sample - loss: 0.5057 - acc: 0.7960\n",
      "Epoch 90/100\n",
      "8000/8000 [==============================] - 0s 62us/sample - loss: 0.5057 - acc: 0.7960\n",
      "Epoch 91/100\n",
      "8000/8000 [==============================] - 1s 69us/sample - loss: 0.5057 - acc: 0.7960\n",
      "Epoch 92/100\n",
      "8000/8000 [==============================] - 1s 63us/sample - loss: 0.5057 - acc: 0.7960\n",
      "Epoch 93/100\n",
      "8000/8000 [==============================] - 1s 65us/sample - loss: 0.5057 - acc: 0.7960\n",
      "Epoch 94/100\n",
      "8000/8000 [==============================] - 1s 71us/sample - loss: 0.5057 - acc: 0.7960\n",
      "Epoch 95/100\n",
      "8000/8000 [==============================] - 1s 69us/sample - loss: 0.5057 - acc: 0.7960\n",
      "Epoch 96/100\n",
      "8000/8000 [==============================] - 1s 69us/sample - loss: 0.5057 - acc: 0.7960\n",
      "Epoch 97/100\n",
      "8000/8000 [==============================] - 1s 67us/sample - loss: 0.5057 - acc: 0.7960\n",
      "Epoch 98/100\n",
      "8000/8000 [==============================] - 1s 69us/sample - loss: 0.5058 - acc: 0.7960\n",
      "Epoch 99/100\n",
      "8000/8000 [==============================] - 1s 68us/sample - loss: 0.5057 - acc: 0.7960\n",
      "Epoch 100/100\n",
      "8000/8000 [==============================] - 1s 65us/sample - loss: 0.5057 - acc: 0.7960\n"
     ]
    },
    {
     "data": {
      "text/plain": [
       "<tensorflow.python.keras.callbacks.History at 0x7f5461f9a208>"
      ]
     },
     "execution_count": 35,
     "metadata": {},
     "output_type": "execute_result"
    }
   ],
   "source": [
    "from tensorflow.keras import Sequential\n",
    "from tensorflow.keras.layers import Dense\n",
    "from tensorflow.keras.activations import relu, sigmoid\n",
    "\n",
    "model = Sequential()\n",
    "model.add(Dense(6, input_dim=9, activation='relu'))\n",
    "model.add(Dense(6, activation='relu'))\n",
    "model.add(Dense(1, activation='sigmoid'))\n",
    "model.compile(loss='binary_crossentropy', optimizer='adam', metrics=['accuracy'])\n",
    "model.fit(x_train, y_train, 20, 100)"
   ]
  },
  {
   "cell_type": "code",
   "execution_count": 36,
   "id": "88b725b7",
   "metadata": {},
   "outputs": [],
   "source": [
    "prediction = model.predict(x_test)"
   ]
  },
  {
   "cell_type": "code",
   "execution_count": 37,
   "id": "1788eb08",
   "metadata": {},
   "outputs": [
    {
     "data": {
      "text/plain": [
       "0.7975"
      ]
     },
     "execution_count": 37,
     "metadata": {},
     "output_type": "execute_result"
    }
   ],
   "source": [
    "from sklearn.metrics import accuracy_score\n",
    "accuracy_score(y_test, prediction.round()) "
   ]
  },
  {
   "cell_type": "code",
   "execution_count": 54,
   "id": "ef507a07",
   "metadata": {},
   "outputs": [
    {
     "data": {
      "text/plain": [
       "[<matplotlib.lines.Line2D at 0x7f54618069e8>]"
      ]
     },
     "execution_count": 54,
     "metadata": {},
     "output_type": "execute_result"
    },
    {
     "data": {
      "image/png": "[encoded data removed]",
      "text/plain": [
       "<Figure size 432x288 with 1 Axes>"
      ]
     },
     "metadata": {
      "needs_background": "light"
     },
     "output_type": "display_data"
    }
   ],
   "source": [
    "plt.plot(y_test)"
   ]
  },
  {
   "cell_type": "code",
   "execution_count": null,
   "id": "632cd5b5",
   "metadata": {},
   "outputs": [],
   "source": []
  }
 ],
 "metadata": {
  "kernelspec": {
   "display_name": "Python 3",
   "language": "python",
   "name": "python3"
  },
  "language_info": {
   "codemirror_mode": {
    "name": "ipython",
    "version": 3
   },
   "file_extension": ".py",
   "mimetype": "text/x-python",
   "name": "python",
   "nbconvert_exporter": "python",
   "pygments_lexer": "ipython3",
   "version": "3.6.9"
  }
 },
 "nbformat": 4,
 "nbformat_minor": 5
}
