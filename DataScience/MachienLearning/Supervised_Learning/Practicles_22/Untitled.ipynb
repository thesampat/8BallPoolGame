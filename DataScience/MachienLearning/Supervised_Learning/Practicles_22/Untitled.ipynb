{
 "cells": [
  {
   "cell_type": "code",
   "execution_count": 2,
   "id": "7ea98b1f",
   "metadata": {},
   "outputs": [],
   "source": [
    "df = pd.read_csv('/home/sam/Desktop/Codes/DataScience/datasets/VideoStatistics.csv')"
   ]
  },
  {
   "cell_type": "code",
   "execution_count": 3,
   "id": "35dc913b",
   "metadata": {},
   "outputs": [
    {
     "data": {
      "text/html": [
       "<div>\n",
       "<style scoped>\n",
       "    .dataframe tbody tr th:only-of-type {\n",
       "        vertical-align: middle;\n",
       "    }\n",
       "\n",
       "    .dataframe tbody tr th {\n",
       "        vertical-align: top;\n",
       "    }\n",
       "\n",
       "    .dataframe thead th {\n",
       "        text-align: right;\n",
       "    }\n",
       "</style>\n",
       "<table border=\"1\" class=\"dataframe\">\n",
       "  <thead>\n",
       "    <tr style=\"text-align: right;\">\n",
       "      <th></th>\n",
       "      <th>Unnamed: 0</th>\n",
       "      <th>Video_id</th>\n",
       "      <th>Video_Channel_title</th>\n",
       "      <th>Stats_Comment</th>\n",
       "      <th>Stats_Fav</th>\n",
       "      <th>Stats_Like</th>\n",
       "      <th>Stats_view</th>\n",
       "    </tr>\n",
       "  </thead>\n",
       "  <tbody>\n",
       "    <tr>\n",
       "      <th>0</th>\n",
       "      <td>0</td>\n",
       "      <td>tqaVPn4YFaY</td>\n",
       "      <td>Unbox Therapy</td>\n",
       "      <td>3292.0</td>\n",
       "      <td>0</td>\n",
       "      <td>28270.0</td>\n",
       "      <td>770804.0</td>\n",
       "    </tr>\n",
       "    <tr>\n",
       "      <th>1</th>\n",
       "      <td>1</td>\n",
       "      <td>Es1Uolu0chc</td>\n",
       "      <td>Unbox Therapy</td>\n",
       "      <td>2320.0</td>\n",
       "      <td>0</td>\n",
       "      <td>19927.0</td>\n",
       "      <td>1255720.0</td>\n",
       "    </tr>\n",
       "    <tr>\n",
       "      <th>2</th>\n",
       "      <td>2</td>\n",
       "      <td>xXpWulEEhGw</td>\n",
       "      <td>Unbox Therapy</td>\n",
       "      <td>1911.0</td>\n",
       "      <td>0</td>\n",
       "      <td>19447.0</td>\n",
       "      <td>1495515.0</td>\n",
       "    </tr>\n",
       "    <tr>\n",
       "      <th>3</th>\n",
       "      <td>3</td>\n",
       "      <td>JpV0KHGqn_w</td>\n",
       "      <td>Unbox Therapy</td>\n",
       "      <td>3875.0</td>\n",
       "      <td>0</td>\n",
       "      <td>37793.0</td>\n",
       "      <td>2668559.0</td>\n",
       "    </tr>\n",
       "    <tr>\n",
       "      <th>4</th>\n",
       "      <td>4</td>\n",
       "      <td>9zQq-3Kn0uM</td>\n",
       "      <td>Unbox Therapy</td>\n",
       "      <td>453.0</td>\n",
       "      <td>0</td>\n",
       "      <td>4528.0</td>\n",
       "      <td>1227592.0</td>\n",
       "    </tr>\n",
       "  </tbody>\n",
       "</table>\n",
       "</div>"
      ],
      "text/plain": [
       "   Unnamed: 0     Video_id Video_Channel_title  Stats_Comment  Stats_Fav  \\\n",
       "0           0  tqaVPn4YFaY       Unbox Therapy         3292.0          0   \n",
       "1           1  Es1Uolu0chc       Unbox Therapy         2320.0          0   \n",
       "2           2  xXpWulEEhGw       Unbox Therapy         1911.0          0   \n",
       "3           3  JpV0KHGqn_w       Unbox Therapy         3875.0          0   \n",
       "4           4  9zQq-3Kn0uM       Unbox Therapy          453.0          0   \n",
       "\n",
       "   Stats_Like  Stats_view  \n",
       "0     28270.0    770804.0  \n",
       "1     19927.0   1255720.0  \n",
       "2     19447.0   1495515.0  \n",
       "3     37793.0   2668559.0  \n",
       "4      4528.0   1227592.0  "
      ]
     },
     "execution_count": 3,
     "metadata": {},
     "output_type": "execute_result"
    }
   ],
   "source": [
    "df.head()"
   ]
  },
  {
   "cell_type": "code",
   "execution_count": 4,
   "id": "f994ea50",
   "metadata": {},
   "outputs": [
    {
     "name": "stdout",
     "output_type": "stream",
     "text": [
      "Unnamed: 0   [ 0  1  2  3  4  5  6  7  8  9 10 11 12 13 14 15 16 17 18 19 20 21 22 23\n",
      " 24 25 26 27 28 29 30 31 32 33 34 35 36 37 38 39 40 41 42 43 44 45 46 47\n",
      " 48 49]\n",
      "Video_id   ['tqaVPn4YFaY' 'Es1Uolu0chc' 'xXpWulEEhGw' ... '8lP7i_CcRVg' '9G3r2UuKj3Q'\n",
      " 'M_QU_Y93eLc']\n",
      "Video_Channel_title   ['Unbox Therapy' 'Technical Guruji' 'Marques Brownlee' 'UrAvgConsumer'\n",
      " 'Linus Tech Tips' 'Dave2D' 'Austin Evans' 'Mrwhosetheboss']\n",
      "Stats_Comment   [3292. 2320. 1911. ...  828. 9585. 5071.]\n",
      "Stats_Fav   [0]\n",
      "Stats_Like   [28270. 19927. 19447. ...   765.  1334. 16039.]\n",
      "Stats_view   [ 770804. 1255720. 1495515. ...   47432.   54858.  405600.]\n"
     ]
    }
   ],
   "source": [
    "for col in df.columns:\n",
    "    print(f'{col}   {df[col].unique()}')"
   ]
  },
  {
   "cell_type": "code",
   "execution_count": 5,
   "id": "6a871b78",
   "metadata": {},
   "outputs": [],
   "source": [
    "df.drop('Stats_Fav', axis=1, inplace =True)"
   ]
  },
  {
   "cell_type": "code",
   "execution_count": 6,
   "id": "6ee04f52",
   "metadata": {},
   "outputs": [
    {
     "data": {
      "text/plain": [
       "Unnamed: 0              0\n",
       "Video_id                0\n",
       "Video_Channel_title     0\n",
       "Stats_Comment          25\n",
       "Stats_Like             18\n",
       "Stats_view             12\n",
       "dtype: int64"
      ]
     },
     "execution_count": 6,
     "metadata": {},
     "output_type": "execute_result"
    }
   ],
   "source": [
    "df.isnull().sum()"
   ]
  },
  {
   "cell_type": "code",
   "execution_count": 7,
   "id": "4ffc4123",
   "metadata": {},
   "outputs": [],
   "source": [
    "for col in df.columns:\n",
    "    if df[col].isnull().sum()>=1:\n",
    "        median = np.round(df[col].median())\n",
    "        df[col].fillna(median, inplace=True)"
   ]
  },
  {
   "cell_type": "code",
   "execution_count": 8,
   "id": "2468e173",
   "metadata": {},
   "outputs": [
    {
     "data": {
      "text/html": [
       "<div>\n",
       "<style scoped>\n",
       "    .dataframe tbody tr th:only-of-type {\n",
       "        vertical-align: middle;\n",
       "    }\n",
       "\n",
       "    .dataframe tbody tr th {\n",
       "        vertical-align: top;\n",
       "    }\n",
       "\n",
       "    .dataframe thead th {\n",
       "        text-align: right;\n",
       "    }\n",
       "</style>\n",
       "<table border=\"1\" class=\"dataframe\">\n",
       "  <thead>\n",
       "    <tr style=\"text-align: right;\">\n",
       "      <th></th>\n",
       "      <th>Unnamed: 0</th>\n",
       "      <th>Video_id</th>\n",
       "      <th>Video_Channel_title</th>\n",
       "      <th>Stats_Comment</th>\n",
       "      <th>Stats_Like</th>\n",
       "      <th>Stats_view</th>\n",
       "    </tr>\n",
       "  </thead>\n",
       "  <tbody>\n",
       "    <tr>\n",
       "      <th>0</th>\n",
       "      <td>0</td>\n",
       "      <td>tqaVPn4YFaY</td>\n",
       "      <td>Unbox Therapy</td>\n",
       "      <td>3292.0</td>\n",
       "      <td>28270.0</td>\n",
       "      <td>770804.0</td>\n",
       "    </tr>\n",
       "    <tr>\n",
       "      <th>1</th>\n",
       "      <td>1</td>\n",
       "      <td>Es1Uolu0chc</td>\n",
       "      <td>Unbox Therapy</td>\n",
       "      <td>2320.0</td>\n",
       "      <td>19927.0</td>\n",
       "      <td>1255720.0</td>\n",
       "    </tr>\n",
       "    <tr>\n",
       "      <th>2</th>\n",
       "      <td>2</td>\n",
       "      <td>xXpWulEEhGw</td>\n",
       "      <td>Unbox Therapy</td>\n",
       "      <td>1911.0</td>\n",
       "      <td>19447.0</td>\n",
       "      <td>1495515.0</td>\n",
       "    </tr>\n",
       "    <tr>\n",
       "      <th>3</th>\n",
       "      <td>3</td>\n",
       "      <td>JpV0KHGqn_w</td>\n",
       "      <td>Unbox Therapy</td>\n",
       "      <td>3875.0</td>\n",
       "      <td>37793.0</td>\n",
       "      <td>2668559.0</td>\n",
       "    </tr>\n",
       "    <tr>\n",
       "      <th>4</th>\n",
       "      <td>4</td>\n",
       "      <td>9zQq-3Kn0uM</td>\n",
       "      <td>Unbox Therapy</td>\n",
       "      <td>453.0</td>\n",
       "      <td>4528.0</td>\n",
       "      <td>1227592.0</td>\n",
       "    </tr>\n",
       "  </tbody>\n",
       "</table>\n",
       "</div>"
      ],
      "text/plain": [
       "   Unnamed: 0     Video_id Video_Channel_title  Stats_Comment  Stats_Like  \\\n",
       "0           0  tqaVPn4YFaY       Unbox Therapy         3292.0     28270.0   \n",
       "1           1  Es1Uolu0chc       Unbox Therapy         2320.0     19927.0   \n",
       "2           2  xXpWulEEhGw       Unbox Therapy         1911.0     19447.0   \n",
       "3           3  JpV0KHGqn_w       Unbox Therapy         3875.0     37793.0   \n",
       "4           4  9zQq-3Kn0uM       Unbox Therapy          453.0      4528.0   \n",
       "\n",
       "   Stats_view  \n",
       "0    770804.0  \n",
       "1   1255720.0  \n",
       "2   1495515.0  \n",
       "3   2668559.0  \n",
       "4   1227592.0  "
      ]
     },
     "execution_count": 8,
     "metadata": {},
     "output_type": "execute_result"
    }
   ],
   "source": [
    "df.head()"
   ]
  },
  {
   "cell_type": "code",
   "execution_count": 9,
   "id": "7d4cd9f0",
   "metadata": {},
   "outputs": [
    {
     "data": {
      "text/plain": [
       "<AxesSubplot:>"
      ]
     },
     "execution_count": 9,
     "metadata": {},
     "output_type": "execute_result"
    },
    {
     "data": {
      "image/png": "[encoded data removed]",
      "text/plain": [
       "<Figure size 432x288 with 2 Axes>"
      ]
     },
     "metadata": {
      "needs_background": "light"
     },
     "output_type": "display_data"
    }
   ],
   "source": [
    "df.drop('Video_id', axis=1, inplace =True)\n",
    "corr = df.corr()\n",
    "sns.heatmap(corr)"
   ]
  },
  {
   "cell_type": "code",
   "execution_count": 10,
   "id": "45e7c3b0",
   "metadata": {},
   "outputs": [
    {
     "data": {
      "text/plain": [
       "<AxesSubplot:xlabel='Video_Channel_title', ylabel='Stats_Like'>"
      ]
     },
     "execution_count": 10,
     "metadata": {},
     "output_type": "execute_result"
    },
    {
     "data": {
      "image/png": "[encoded data removed]",
      "text/plain": [
       "<Figure size 1080x432 with 1 Axes>"
      ]
     },
     "metadata": {
      "needs_background": "light"
     },
     "output_type": "display_data"
    }
   ],
   "source": [
    "plt.figure(figsize=(15, 6))\n",
    "sns.barplot(x=df.Video_Channel_title, y=df.Stats_Like)"
   ]
  },
  {
   "cell_type": "code",
   "execution_count": 11,
   "id": "527349d7",
   "metadata": {},
   "outputs": [
    {
     "data": {
      "text/plain": [
       "<AxesSubplot:xlabel='Video_Channel_title', ylabel='Stats_Comment'>"
      ]
     },
     "execution_count": 11,
     "metadata": {},
     "output_type": "execute_result"
    },
    {
     "data": {
      "image/png": "[encoded data removed]",
      "text/plain": [
       "<Figure size 1080x216 with 1 Axes>"
      ]
     },
     "metadata": {
      "needs_background": "light"
     },
     "output_type": "display_data"
    }
   ],
   "source": [
    "plt.figure(figsize=(15, 3))\n",
    "sns.barplot(x=df.Video_Channel_title, y=df.Stats_Comment)"
   ]
  },
  {
   "cell_type": "code",
   "execution_count": null,
   "id": "238ca208",
   "metadata": {},
   "outputs": [],
   "source": []
  },
  {
   "cell_type": "code",
   "execution_count": 12,
   "id": "6996079a",
   "metadata": {},
   "outputs": [],
   "source": [
    "# lets check realtionshipe between"
   ]
  },
  {
   "cell_type": "code",
   "execution_count": 34,
   "id": "4d0aaa91",
   "metadata": {},
   "outputs": [
    {
     "data": {
      "text/plain": [
       "<Figure size 360x216 with 0 Axes>"
      ]
     },
     "execution_count": 34,
     "metadata": {},
     "output_type": "execute_result"
    },
    {
     "data": {
      "text/plain": [
       "<Figure size 360x216 with 0 Axes>"
      ]
     },
     "metadata": {},
     "output_type": "display_data"
    }
   ],
   "source": [
    "plt.figure(figsize=(5, 3))\n"
   ]
  },
  {
   "cell_type": "code",
   "execution_count": null,
   "id": "127bc43d",
   "metadata": {},
   "outputs": [],
   "source": []
  },
  {
   "cell_type": "code",
   "execution_count": null,
   "id": "68a281cf",
   "metadata": {},
   "outputs": [],
   "source": []
  },
  {
   "cell_type": "code",
   "execution_count": null,
   "id": "ecf19aac",
   "metadata": {},
   "outputs": [],
   "source": []
  },
  {
   "cell_type": "code",
   "execution_count": null,
   "id": "7f63ea59",
   "metadata": {},
   "outputs": [],
   "source": []
  }
 ],
 "metadata": {
  "kernelspec": {
   "display_name": "Python 3",
   "language": "python",
   "name": "python3"
  },
  "language_info": {
   "codemirror_mode": {
    "name": "ipython",
    "version": 3
   },
   "file_extension": ".py",
   "mimetype": "text/x-python",
   "name": "python",
   "nbconvert_exporter": "python",
   "pygments_lexer": "ipython3",
   "version": "3.6.9"
  }
 },
 "nbformat": 4,
 "nbformat_minor": 5
}
