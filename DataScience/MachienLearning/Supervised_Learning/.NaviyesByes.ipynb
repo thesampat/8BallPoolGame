{
 "cells": [
  {
   "cell_type": "code",
   "execution_count": 233,
   "id": "222f3db8",
   "metadata": {},
   "outputs": [],
   "source": [
    "import pandas as pd\n",
    "import numpy as np\n",
    "\n",
    "file = pd.read_csv('/home/sam/Desktop/Codes/DataScience/datasets/play2.csv') "
   ]
  },
  {
   "cell_type": "code",
   "execution_count": 234,
   "id": "f835101d",
   "metadata": {},
   "outputs": [],
   "source": [
    "dataset = file.to_numpy()\n",
    "output = dataset[:,-1]\n",
    "x = dataset[:,:-1]"
   ]
  },
  {
   "cell_type": "code",
   "execution_count": 235,
   "id": "22da73e0",
   "metadata": {},
   "outputs": [],
   "source": [
    "from sklearn.model_selection import train_test_split\n",
    "x_train, x_test, y_train, y_test = train_test_split(x, output, random_state=0)"
   ]
  },
  {
   "cell_type": "code",
   "execution_count": 236,
   "id": "0fc60cc1",
   "metadata": {},
   "outputs": [],
   "source": [
    "def get_probablity(test_data, training_data, output):\n",
    "    prob_yes = {}\n",
    "    prob_no = {}\n",
    "    for item in test_data:\n",
    "        for col in range(len(test_data)):\n",
    "            for row in range(len(training_data)):\n",
    "                if item is str(training_data[row, col]) or item is training_data[row, col]:\n",
    "                    if item not in prob_yes:\n",
    "                        prob_yes[item] = 0\n",
    "                    if item not in prob_no:\n",
    "                        prob_no[item] = 0\n",
    "\n",
    "                    value = str(output[row])\n",
    "                    if value == 'yes':\n",
    "                        prob_yes[item] += 1\n",
    "                    if value == 'no':\n",
    "                        prob_no[item] += 1\n",
    "    return prob_yes, prob_no\n"
   ]
  },
  {
   "cell_type": "code",
   "execution_count": 237,
   "id": "01b91b9a",
   "metadata": {},
   "outputs": [],
   "source": [
    "def cal_probablity(dict_o, value):\n",
    "    a = np.sum(np.array([key for key in dict_o.values()]))\n",
    "    x = (dict_o[value]/a)\n",
    "    return x\n",
    "\n",
    "def final_probablity(yes, no, test_data, all_yes, all_no):\n",
    "    probablity_yes = 0\n",
    "    probablity_no = 0\n",
    "    for item in test_data:\n",
    "        probablity_yes += cal_probablity(yes, item)\n",
    "        probablity_no += cal_probablity(no, item)\n",
    "        \n",
    "    probablity_yes = probablity_yes * all_yes\n",
    "    probablity_no = probablity_no * all_no\n",
    "    final_prob = probablity_yes / (probablity_yes + probablity_no)\n",
    "    return final_prob"
   ]
  },
  {
   "cell_type": "code",
   "execution_count": 238,
   "id": "dc2f0425",
   "metadata": {},
   "outputs": [],
   "source": [
    "class Navie:\n",
    "    def __init__(self, dataset, output, test):\n",
    "        self.dataset = dataset\n",
    "        self.output = output\n",
    "        self.test = test\n",
    "        self.p_yes = 0\n",
    "        self.p_no = 0\n",
    "        \n",
    "    \n",
    "    def nivie(self, test_data):\n",
    "        self.p_yes, self.p_no = get_probablity(test_data, self.dataset, self.output)\n",
    "        \n",
    "        yes = np.sum(np.array([key for key in self.p_yes.values()]))\n",
    "        no = np.sum(np.array([key for key in self.p_no.values()]))\n",
    "       \n",
    "        \n",
    "        all_yes = yes/(yes+no)\n",
    "        all_no = no/(yes+no)\n",
    "        \n",
    "        return self.p_yes, self.p_no, all_yes, all_no"
   ]
  },
  {
   "cell_type": "code",
   "execution_count": 254,
   "id": "b19c243f",
   "metadata": {
    "scrolled": true
   },
   "outputs": [],
   "source": [
    "N = Navie(x_train, y_train, x_test)\n",
    "prediction = []\n",
    "raw_prediction = []\n",
    "\n",
    "for test_row in x_test:\n",
    "    yes, no, all_yes, all_no = N.nivie(test_row)\n",
    "    result = final_probablity(yes, no, test_row, all_yes, all_no)\n",
    "    \n",
    "#     print(yes, no)\n",
    "#     print(';;;;;;;;;;;;;;;;;')\n",
    "#     print(all_yes, all_no)\n",
    "    raw_prediction.append(result)\n",
    "#     if result <= 0.5:\n",
    "#         prediction.append('No')\n",
    "#     else:\n",
    "#         prediction.append('yes')\n",
    "        \n",
    "\n"
   ]
  },
  {
   "cell_type": "code",
   "execution_count": null,
   "id": "f708fa4a",
   "metadata": {},
   "outputs": [],
   "source": []
  },
  {
   "cell_type": "code",
   "execution_count": null,
   "id": "0c629c43",
   "metadata": {},
   "outputs": [],
   "source": []
  },
  {
   "cell_type": "code",
   "execution_count": null,
   "id": "633f5b2a",
   "metadata": {},
   "outputs": [],
   "source": []
  },
  {
   "cell_type": "code",
   "execution_count": null,
   "id": "dbba9bf9",
   "metadata": {},
   "outputs": [],
   "source": []
  },
  {
   "cell_type": "code",
   "execution_count": null,
   "id": "94b24ebd",
   "metadata": {},
   "outputs": [],
   "source": []
  },
  {
   "cell_type": "code",
   "execution_count": null,
   "id": "effee3db",
   "metadata": {},
   "outputs": [],
   "source": []
  },
  {
   "cell_type": "code",
   "execution_count": null,
   "id": "90a3221a",
   "metadata": {},
   "outputs": [],
   "source": []
  },
  {
   "cell_type": "code",
   "execution_count": null,
   "id": "030c4bda",
   "metadata": {},
   "outputs": [],
   "source": []
  },
  {
   "cell_type": "code",
   "execution_count": null,
   "id": "c9d95c69",
   "metadata": {},
   "outputs": [],
   "source": []
  },
  {
   "cell_type": "code",
   "execution_count": null,
   "id": "d921f597",
   "metadata": {},
   "outputs": [],
   "source": []
  },
  {
   "cell_type": "code",
   "execution_count": null,
   "id": "7b0227af",
   "metadata": {},
   "outputs": [],
   "source": []
  },
  {
   "cell_type": "code",
   "execution_count": null,
   "id": "22e99f4d",
   "metadata": {},
   "outputs": [],
   "source": []
  }
 ],
 "metadata": {
  "kernelspec": {
   "display_name": "Python 3",
   "language": "python",
   "name": "python3"
  },
  "language_info": {
   "codemirror_mode": {
    "name": "ipython",
    "version": 3
   },
   "file_extension": ".py",
   "mimetype": "text/x-python",
   "name": "python",
   "nbconvert_exporter": "python",
   "pygments_lexer": "ipython3",
   "version": "3.6.9"
  }
 },
 "nbformat": 4,
 "nbformat_minor": 5
}
