{
 "cells": [
  {
   "cell_type": "code",
   "execution_count": 126,
   "id": "5017f526",
   "metadata": {},
   "outputs": [],
   "source": [
    "import pandas as pd\n",
    "\n",
    "file = pd.read_csv('/home/sam/Desktop/Codes/DataScience/datasets/play2.csv') "
   ]
  },
  {
   "cell_type": "code",
   "execution_count": 166,
   "id": "c2e4904f",
   "metadata": {},
   "outputs": [],
   "source": [
    "dataset = file.to_numpy()\n",
    "output = dataset[:,-1]\n",
    "x = dataset[:,:-1]"
   ]
  },
  {
   "cell_type": "code",
   "execution_count": 171,
   "id": "602b04dc",
   "metadata": {},
   "outputs": [],
   "source": [
    "from sklearn.model_selection import train_test_split\n",
    "x_train, y_train, x_test, y_test = train_test_split(x, output, random_state=10)"
   ]
  },
  {
   "cell_type": "code",
   "execution_count": null,
   "id": "365ed106",
   "metadata": {},
   "outputs": [],
   "source": [
    "def get_probablity(test_data, training_data, output):\n",
    "       prob_dict = {} \n",
    "    for col in range(len(training_data[0])-1):\n",
    "        for row in range(len(training_data)-1):\n",
    "            \n",
    "            "
   ]
  },
  {
   "cell_type": "code",
   "execution_count": 176,
   "id": "a9949dbc",
   "metadata": {},
   "outputs": [
    {
     "data": {
      "text/plain": [
       "array([['rainy', 'mild', 'high', True],\n",
       "       ['overcast', 'mild', 'high', True],\n",
       "       ['sunny', 'hot', 'high', True],\n",
       "       ['rainy', 'cool', 'normal', False],\n",
       "       ['sunny', 'mild', 'high', False],\n",
       "       ['sunny', 'mild', 'normal', True],\n",
       "       ['overcast', 'cool', 'normal', True],\n",
       "       ['overcast', 'hot', 'high', False],\n",
       "       ['rainy', 'mild', 'high', False],\n",
       "       ['sunny', 'hot', 'high', False]], dtype=object)"
      ]
     },
     "execution_count": 176,
     "metadata": {},
     "output_type": "execute_result"
    }
   ],
   "source": [
    "class Navie:\n",
    "    def __init__(dataset, output):\n",
    "        pass\n",
    "    \n",
    "    def nivie(test_data, train_data, output):\n",
    "        prob = get_probablity()"
   ]
  },
  {
   "cell_type": "code",
   "execution_count": null,
   "id": "17951317",
   "metadata": {},
   "outputs": [],
   "source": []
  },
  {
   "cell_type": "code",
   "execution_count": null,
   "id": "4a7d9f86",
   "metadata": {},
   "outputs": [],
   "source": []
  },
  {
   "cell_type": "code",
   "execution_count": null,
   "id": "167ec4ed",
   "metadata": {},
   "outputs": [],
   "source": []
  },
  {
   "cell_type": "code",
   "execution_count": null,
   "id": "5d8e20a3",
   "metadata": {},
   "outputs": [],
   "source": []
  },
  {
   "cell_type": "code",
   "execution_count": null,
   "id": "e664ec1e",
   "metadata": {},
   "outputs": [],
   "source": []
  },
  {
   "cell_type": "code",
   "execution_count": null,
   "id": "7f3e77c3",
   "metadata": {},
   "outputs": [],
   "source": []
  }
 ],
 "metadata": {
  "kernelspec": {
   "display_name": "Python 3",
   "language": "python",
   "name": "python3"
  },
  "language_info": {
   "codemirror_mode": {
    "name": "ipython",
    "version": 3
   },
   "file_extension": ".py",
   "mimetype": "text/x-python",
   "name": "python",
   "nbconvert_exporter": "python",
   "pygments_lexer": "ipython3",
   "version": "3.6.9"
  }
 },
 "nbformat": 4,
 "nbformat_minor": 5
}
